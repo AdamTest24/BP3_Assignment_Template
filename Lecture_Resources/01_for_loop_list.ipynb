{
 "cells": [
  {
   "cell_type": "markdown",
   "metadata": {},
   "source": [
    "# Iterate through `list`"
   ]
  },
  {
   "cell_type": "code",
   "execution_count": 2,
   "metadata": {},
   "outputs": [
    {
     "data": {
      "text/plain": [
       "[1, 22, 333, 4444, 55555]"
      ]
     },
     "execution_count": 2,
     "metadata": {},
     "output_type": "execute_result"
    }
   ],
   "source": [
    "my_list = [1, 22, 333, 4444, 55555]\n",
    "\n",
    "my_list\n"
   ]
  },
  {
   "cell_type": "code",
   "execution_count": 3,
   "metadata": {},
   "outputs": [
    {
     "name": "stdout",
     "output_type": "stream",
     "text": [
      "1\n",
      "22\n",
      "333\n",
      "4444\n",
      "55555\n"
     ]
    }
   ],
   "source": [
    "# Iterate through list\n",
    "\n",
    "for number in my_list:\n",
    "    \n",
    "    print(number)\n",
    "    "
   ]
  },
  {
   "cell_type": "code",
   "execution_count": 4,
   "metadata": {},
   "outputs": [
    {
     "name": "stdout",
     "output_type": "stream",
     "text": [
      "0\n",
      "1\n",
      "2\n",
      "3\n",
      "4\n"
     ]
    }
   ],
   "source": [
    "# Create indices\n",
    "\n",
    "for number in range(5):\n",
    "    \n",
    "    print(number)\n",
    "    "
   ]
  },
  {
   "cell_type": "code",
   "execution_count": 5,
   "metadata": {},
   "outputs": [
    {
     "name": "stdout",
     "output_type": "stream",
     "text": [
      "1\n",
      "22\n",
      "333\n",
      "4444\n",
      "55555\n"
     ]
    }
   ],
   "source": [
    "# Use indices to iterate\n",
    "\n",
    "for number in range(5):\n",
    "    \n",
    "    print(my_list[number])\n"
   ]
  },
  {
   "cell_type": "code",
   "execution_count": 6,
   "metadata": {},
   "outputs": [
    {
     "name": "stdout",
     "output_type": "stream",
     "text": [
      "Index: 0     Item: 1\n",
      "Index: 1     Item: 22\n",
      "Index: 2     Item: 333\n",
      "Index: 3     Item: 4444\n",
      "Index: 4     Item: 55555\n"
     ]
    }
   ],
   "source": [
    "# Use `enumerate` for indices and values\n",
    "\n",
    "for index, item in enumerate(my_list):\n",
    "    \n",
    "    print('Index:', index, '    Item:', item)\n"
   ]
  },
  {
   "cell_type": "code",
   "execution_count": null,
   "metadata": {},
   "outputs": [
    {
     "name": "stdout",
     "output_type": "stream",
     "text": [
      "Position: 1     Item: 1\n",
      "Position: 2     Item: 22\n",
      "Position: 3     Item: 333\n",
      "Position: 4     Item: 4444\n",
      "Position: 5     Item: 55555\n"
     ]
    }
   ],
   "source": [
    "for index, item in enumerate(my_list):\n",
    "    \n",
    "    print('Position:', index+1, '    Item:', item)\n"
   ]
  },
  {
   "cell_type": "code",
   "execution_count": 7,
   "metadata": {},
   "outputs": [
    {
     "name": "stdout",
     "output_type": "stream",
     "text": [
      "(1, 2)\n",
      "(3, 4)\n",
      "(5, 6)\n"
     ]
    }
   ],
   "source": [
    "# Iterate through nested arrays\n",
    "\n",
    "my_list = [(1, 2), (3, 4), (5, 6)]\n",
    "\n",
    "for pair in my_list:\n",
    "    \n",
    "    print(pair)\n",
    "    "
   ]
  },
  {
   "cell_type": "code",
   "execution_count": 1,
   "metadata": {},
   "outputs": [
    {
     "name": "stdout",
     "output_type": "stream",
     "text": [
      "1 2\n",
      "3 4\n",
      "5 6\n"
     ]
    }
   ],
   "source": [
    "my_list = [(1, 2), (3, 4), (5, 6)]\n",
    "\n",
    "for pair in my_list:\n",
    "    \n",
    "    print(pair[0], pair[1])\n",
    "   "
   ]
  },
  {
   "cell_type": "code",
   "execution_count": null,
   "metadata": {},
   "outputs": [],
   "source": []
  }
 ],
 "metadata": {
  "kernelspec": {
   "display_name": "Python 3 (ipykernel)",
   "language": "python",
   "name": "python3"
  },
  "language_info": {
   "codemirror_mode": {
    "name": "ipython",
    "version": 3
   },
   "file_extension": ".py",
   "mimetype": "text/x-python",
   "name": "python",
   "nbconvert_exporter": "python",
   "pygments_lexer": "ipython3",
   "version": "3.8.13"
  }
 },
 "nbformat": 4,
 "nbformat_minor": 4
}
