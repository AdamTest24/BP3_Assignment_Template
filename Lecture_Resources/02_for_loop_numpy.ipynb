{
 "cells": [
  {
   "cell_type": "markdown",
   "metadata": {},
   "source": [
    "# Iterate through `Numpy` array"
   ]
  },
  {
   "cell_type": "code",
   "execution_count": 4,
   "metadata": {},
   "outputs": [
    {
     "data": {
      "text/plain": [
       "array([0.13294772, 0.06016511, 0.53622735, 0.41818589, 0.51514094])"
      ]
     },
     "execution_count": 4,
     "metadata": {},
     "output_type": "execute_result"
    }
   ],
   "source": [
    "# Import function to create uniformly distributed numbers\n",
    "\n",
    "from numpy.random import uniform\n",
    "\n",
    "my_data = uniform(size=5)\n",
    "\n",
    "my_data\n"
   ]
  },
  {
   "cell_type": "code",
   "execution_count": 5,
   "metadata": {},
   "outputs": [
    {
     "name": "stdout",
     "output_type": "stream",
     "text": [
      "0.13294772022640156\n",
      "0.06016510576736156\n",
      "0.5362273486688319\n",
      "0.41818588698954273\n",
      "0.5151409364504778\n"
     ]
    }
   ],
   "source": [
    "# Iterate through Numpy array\n",
    "\n",
    "for number in my_data:\n",
    "    \n",
    "    print(number)\n",
    "    "
   ]
  },
  {
   "cell_type": "code",
   "execution_count": 7,
   "metadata": {},
   "outputs": [
    {
     "data": {
      "text/plain": [
       "array([[0.78924465, 0.96087449],\n",
       "       [0.24228834, 0.40585135],\n",
       "       [0.83742509, 0.88897094],\n",
       "       [0.2323949 , 0.88310758],\n",
       "       [0.87243218, 0.3771541 ]])"
      ]
     },
     "execution_count": 7,
     "metadata": {},
     "output_type": "execute_result"
    }
   ],
   "source": [
    "# Create (row x column) numpy array\n",
    "\n",
    "my_data = uniform(size=(5, 2))\n",
    "\n",
    "my_data\n"
   ]
  },
  {
   "cell_type": "code",
   "execution_count": 15,
   "metadata": {},
   "outputs": [
    {
     "name": "stdout",
     "output_type": "stream",
     "text": [
      "[0.78924465 0.96087449]\n",
      "[0.24228834 0.40585135]\n",
      "[0.83742509 0.88897094]\n",
      "[0.2323949  0.88310758]\n",
      "[0.87243218 0.3771541 ]\n"
     ]
    }
   ],
   "source": [
    "# Iterate through two-dimensional array\n",
    "\n",
    "for row in my_data:\n",
    "    \n",
    "    print(row)\n"
   ]
  },
  {
   "cell_type": "code",
   "execution_count": 16,
   "metadata": {},
   "outputs": [
    {
     "name": "stdout",
     "output_type": "stream",
     "text": [
      "0.7892446483698019\n",
      "0.24228833531800686\n",
      "0.8374250918362758\n",
      "0.23239489685454306\n",
      "0.872432181713057\n"
     ]
    }
   ],
   "source": [
    "# Get a single item from each row\n",
    "\n",
    "for row in my_data:\n",
    "    \n",
    "    print(row[0])\n"
   ]
  },
  {
   "cell_type": "code",
   "execution_count": 19,
   "metadata": {},
   "outputs": [
    {
     "name": "stdout",
     "output_type": "stream",
     "text": [
      "0.8750595698315431\n",
      "0.3240698450827741\n",
      "0.863198015810692\n",
      "0.5577512375210807\n",
      "0.6247931391026809\n"
     ]
    }
   ],
   "source": [
    "# Calculate the mean of each row\n",
    "\n",
    "from numpy import mean\n",
    "\n",
    "for row in my_data:\n",
    "    \n",
    "    print(mean(row))\n"
   ]
  },
  {
   "cell_type": "code",
   "execution_count": 20,
   "metadata": {},
   "outputs": [
    {
     "name": "stdout",
     "output_type": "stream",
     "text": [
      "0.88\n",
      "0.32\n",
      "0.86\n",
      "0.56\n",
      "0.62\n"
     ]
    }
   ],
   "source": [
    "# Beautify\n",
    "\n",
    "for numbers in my_data:\n",
    "    \n",
    "    print(round(mean(numbers), 2))\n",
    "    "
   ]
  },
  {
   "cell_type": "code",
   "execution_count": null,
   "metadata": {},
   "outputs": [],
   "source": []
  }
 ],
 "metadata": {
  "kernelspec": {
   "display_name": "Python 3 (ipykernel)",
   "language": "python",
   "name": "python3"
  },
  "language_info": {
   "codemirror_mode": {
    "name": "ipython",
    "version": 3
   },
   "file_extension": ".py",
   "mimetype": "text/x-python",
   "name": "python",
   "nbconvert_exporter": "python",
   "pygments_lexer": "ipython3",
   "version": "3.8.13"
  }
 },
 "nbformat": 4,
 "nbformat_minor": 4
}
